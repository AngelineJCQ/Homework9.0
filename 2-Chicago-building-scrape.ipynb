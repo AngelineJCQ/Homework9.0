{
 "cells": [
  {
   "cell_type": "markdown",
   "metadata": {},
   "source": [
    "## Logging on\n",
    "\n",
    "Use Selenium to visit https://webapps1.chicago.gov/buildingrecords/ and accept the agreement.\n",
    "\n",
    "> Think about when you use `.find_element...` and when you use `.find_elementSSS...`"
   ]
  },
  {
   "cell_type": "code",
   "execution_count": null,
   "metadata": {},
   "outputs": [],
   "source": [
    "from selenium import webdriver\n",
    "from selenium.webdriver.common.by import By\n",
    "from selenium.webdriver.support.ui import Select\n",
    "\n",
    "from webdriver_manager.chrome import ChromeDriverManager\n",
    "\n",
    "import pandas as pd"
   ]
  },
  {
   "cell_type": "code",
   "execution_count": null,
   "metadata": {},
   "outputs": [],
   "source": [
    "driver = webdriver.Chrome(ChromeDriverManager().install())"
   ]
  },
  {
   "cell_type": "code",
   "execution_count": null,
   "metadata": {},
   "outputs": [],
   "source": [
    "driver.get('https://webapps1.chicago.gov/buildingrecords/')"
   ]
  },
  {
   "cell_type": "code",
   "execution_count": null,
   "metadata": {},
   "outputs": [],
   "source": [
    "driver.find_element(By.ID, 'rbnAgreement1').click()"
   ]
  },
  {
   "cell_type": "code",
   "execution_count": null,
   "metadata": {},
   "outputs": [],
   "source": [
    "driver.find_element(By.ID, 'submit').click()"
   ]
  },
  {
   "cell_type": "markdown",
   "metadata": {},
   "source": [
    "## Searching\n",
    "\n",
    "Search for **400 E 41ST ST**."
   ]
  },
  {
   "cell_type": "code",
   "execution_count": null,
   "metadata": {},
   "outputs": [],
   "source": [
    "driver.find_element(By.ID, 'fullAddress').send_keys('400 E 41ST ST')"
   ]
  },
  {
   "cell_type": "code",
   "execution_count": null,
   "metadata": {},
   "outputs": [],
   "source": [
    "driver.find_element(By.ID, 'submit').click()"
   ]
  },
  {
   "cell_type": "markdown",
   "metadata": {},
   "source": [
    "## Saving tables with pandas\n",
    "\n",
    "Use pandas to save a CSV of all **permits** to `Permits - 400 E 41ST ST.csv`. Note that there are **different sections of the page**, not just one long permits table.\n",
    "\n",
    "> - *Tip: When using `.read_html`, try using `flavor='lxml'` and comparing the results to `flavor='html5lib'`. Which works better?*\n",
    "> - *Tip: You might need to install `html5lib` using `pip`. If so, you'll need to restart the notebook using **Kernel > Restart** before it will work.*"
   ]
  },
  {
   "cell_type": "code",
   "execution_count": null,
   "metadata": {},
   "outputs": [],
   "source": [
    "permit = driver.find_element(By.ID, 'resultstable_permits')\n",
    "#df = pd.read_html(permit.get_attribute('outerHTML'), flavor='lxml')[0]\n",
    "df = pd.read_html(permit.get_attribute('outerHTML'), flavor='html5lib')[0]\n",
    "df\n",
    "#'html5lib' works better because it can return all the date issued"
   ]
  },
  {
   "cell_type": "markdown",
   "metadata": {},
   "source": [
    "## Saving tables the long way\n",
    "\n",
    "Save a CSV of all DOB inspections to `Inspections - 400 E 41ST ST.csv`.\n",
    "\n",
    "This is more complicated than the last one becuse **we also need to save the URL to the inspection** (see how the inspection number is a link?). As a result, you won't be able to use pandas! Instead, you'll need to use a loop and create a list of dictionaries.\n",
    "\n",
    "You can use Selenium or you can feed the source to BeautifulSoup. You should have approximately 160 rows.\n",
    "\n",
    "You'll probably need to find the table first, then the rows inside, then the cells inside of each row. You'll probably use lots of list indexing. I might recommend XPath for finding the table.\n",
    "\n",
    "*Tip: If you get a \"list index out of range\" error, it's probably due to an issue involving `thead` vs `tbody` elements. What are they? What are they for? What's in them? There are a few ways to troubleshoot it.*"
   ]
  },
  {
   "cell_type": "code",
   "execution_count": null,
   "metadata": {},
   "outputs": [],
   "source": [
    "inspections = driver.find_element(By.ID, 'resultstable_inspections')"
   ]
  },
  {
   "cell_type": "code",
   "execution_count": null,
   "metadata": {},
   "outputs": [],
   "source": [
    "rows = inspections.find_elements(By.TAG_NAME, 'tr')\n",
    "inspect_result = []\n",
    "for row in rows[1:]:\n",
    "    one_row = {}\n",
    "    cells = row.find_elements(By.TAG_NAME, 'td')\n",
    "    one_row['ID'] = cells[0].text\n",
    "    one_row['Date'] = cells[1].text\n",
    "    one_row['Status'] = cells[2].text\n",
    "    one_row['Type_description'] = cells[3].text\n",
    "    one_row['href'] = cells[0].find_element(By.TAG_NAME, 'a').get_attribute('href')\n",
    "    inspect_result.append(one_row)\n",
    "inspect_result"
   ]
  },
  {
   "cell_type": "code",
   "execution_count": null,
   "metadata": {},
   "outputs": [],
   "source": [
    "df = pd.DataFrame(inspect_result)\n",
    "df"
   ]
  },
  {
   "cell_type": "code",
   "execution_count": null,
   "metadata": {},
   "outputs": [],
   "source": [
    "df.shape"
   ]
  },
  {
   "cell_type": "code",
   "execution_count": null,
   "metadata": {},
   "outputs": [],
   "source": [
    "df.to_csv('Inspections - 400 E 41ST ST.csv', index=False)"
   ]
  },
  {
   "cell_type": "markdown",
   "metadata": {},
   "source": [
    "### Bonus preview of Wednesday's content\n",
    "\n",
    "**You prrrrrobably shouldn't do this one unless you want a real challenge.**\n",
    "\n",
    "If you click the inspection number, it'll open up a new window that shows you details of the violations from that visit. Count the number of violations for each visit and save it in a new column called **num_violations**.\n",
    "\n",
    "Save this file as `Inspections - 400 E 41ST ST - with counts.csv`.\n",
    "\n",
    "Since clicking the link opens in a new window, we have to say \"Hey Selenium, pay attention to that new window!\" We do that with `driver.switch_to.window(driver.window_handles[-1])` (each window gets a `window_handle`, and we're just asking the driver to switch to the last one.). A rough sketch of what your code will look like is here:\n",
    "\n",
    "```python\n",
    "# Click the link that opens the new window\n",
    "\n",
    "# Switch to the new window/tab\n",
    "driver.switch_to.window(driver.window_handles[-1])\n",
    "\n",
    "# Do your scraping in here\n",
    "\n",
    "# Close the new window/tab\n",
    "driver.close()\n",
    "\n",
    "# Switch back to the original window/tab\n",
    "driver.switch_to.window(driver.window_handles[0])\n",
    "```\n",
    "\n",
    "You'll want to play around with them individually before you try it with the whole set - the ones that pass are very different pages than the ones with violations! There are a few ways to get the number of violations, some easier than others."
   ]
  },
  {
   "cell_type": "code",
   "execution_count": null,
   "metadata": {},
   "outputs": [],
   "source": [
    "#Method 1\n",
    "inspections = driver.find_element(By.ID, 'resultstable_inspections')\n",
    "rows = inspections.find_elements(By.TAG_NAME, 'tr')\n",
    "list_violation = []\n",
    "for row in rows[1:]:\n",
    "        cells = row.find_elements(By.TAG_NAME, 'td')\n",
    "        id_ = cells[0].text\n",
    "        status = cells[2].text\n",
    "        if status == 'FAILED':\n",
    "            cells[0].click()\n",
    "            driver.switch_to.window(driver.window_handles[-1])\n",
    "            counts = driver.find_elements(By.TAG_NAME, 'tr')\n",
    "            if len(counts) > 2:\n",
    "                list_violation.append(len(counts) - 2)\n",
    "            else:\n",
    "                list_violation.append(0)\n",
    "            driver.close()\n",
    "            driver.switch_to.window(driver.window_handles[0])\n",
    "        else:\n",
    "            list_violation.append(0)"
   ]
  },
  {
   "cell_type": "code",
   "execution_count": null,
   "metadata": {},
   "outputs": [],
   "source": [
    "df['num_violations'] = list_violation\n",
    "df.head()"
   ]
  },
  {
   "cell_type": "code",
   "execution_count": null,
   "metadata": {},
   "outputs": [],
   "source": [
    "df.to_csv(\"Inspections - 400 E 41ST ST - with counts.csv\", index=False)"
   ]
  },
  {
   "cell_type": "code",
   "execution_count": null,
   "metadata": {},
   "outputs": [],
   "source": []
  },
  {
   "cell_type": "code",
   "execution_count": null,
   "metadata": {
    "scrolled": false
   },
   "outputs": [],
   "source": [
    "#Method 2\n",
    "import re\n",
    "\n",
    "inspections = driver.find_element(By.ID, 'resultstable_inspections')\n",
    "rows = inspections.find_elements(By.TAG_NAME, 'tr')\n",
    "for row in rows[1:]:\n",
    "    row.find_element(By.TAG_NAME, 'a').click()\n",
    "    driver.switch_to.window(driver.window_handles[-1])\n",
    "    try:\n",
    "        number_result = driver.find_element_by_xpath(\"/html/body/div/div[4]/div[4]/div/div[2]/div\").text\n",
    "        number = re.findall(r' (\\d+) entries', number_result)\n",
    "        print(number)\n",
    "    except:\n",
    "        print('NaN')\n",
    "    driver.close()\n",
    "    driver.switch_to.window(driver.window_handles[0])"
   ]
  },
  {
   "cell_type": "code",
   "execution_count": null,
   "metadata": {},
   "outputs": [],
   "source": [
    "#Method 3\n",
    "inspections = driver.find_element(By.ID, 'resultstable_inspections')\n",
    "rows = inspections.find_elements(By.TAG_NAME, 'tr')\n",
    "for row in rows[1:]:\n",
    "    row.find_element(By.TAG_NAME, 'a').click()\n",
    "    driver.switch_to.window(driver.window_handles[-1])\n",
    "    try:\n",
    "        counts = driver.find_elements(By.TAG_NAME, 'tr')\n",
    "        if len(counts) == 0:\n",
    "            print(0)\n",
    "        else:\n",
    "            print(len(counts)-2)\n",
    "    except:\n",
    "        print('NaN')\n",
    "    driver.close()\n",
    "    driver.switch_to.window(driver.window_handles[0])"
   ]
  }
 ],
 "metadata": {
  "kernelspec": {
   "display_name": "Python 3 (ipykernel)",
   "language": "python",
   "name": "python3"
  },
  "language_info": {
   "codemirror_mode": {
    "name": "ipython",
    "version": 3
   },
   "file_extension": ".py",
   "mimetype": "text/x-python",
   "name": "python",
   "nbconvert_exporter": "python",
   "pygments_lexer": "ipython3",
   "version": "3.9.7"
  }
 },
 "nbformat": 4,
 "nbformat_minor": 4
}
